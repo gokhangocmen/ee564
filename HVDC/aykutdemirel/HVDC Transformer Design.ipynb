{
 "metadata": {
  "name": "",
  "signature": "sha256:4982e8c1ac07879b6b2c64bf4654230f80927bdde142d3417da3dc9da1436c8c"
 },
 "nbformat": 3,
 "nbformat_minor": 0,
 "worksheets": [
  {
   "cells": [
    {
     "cell_type": "markdown",
     "metadata": {},
     "source": [
      "#HVDC TRANSFORMER DESIGN\n",
      "\n",
      "Design Specs:\n",
      "\n",
      "* 6.5 MVA Single Phase\n",
      "* Frequency: 500 Hz\n",
      "* Vin = 3 kV\n",
      "* Vout = 300 kV\n",
      "* Temperature = 110 'C\n",
      "\n",
      "Design Procedure:\n",
      "\n",
      "* Core material selection\n",
      "* Max operating magnetic flux density\n",
      "* Cross-sectional area and turn numbers determination\n",
      "* ...\n"
     ]
    },
    {
     "cell_type": "markdown",
     "metadata": {},
     "source": []
    }
   ],
   "metadata": {}
  }
 ]
}