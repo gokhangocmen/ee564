{
 "metadata": {
  "name": "",
  "signature": "sha256:45aa4da6dd635e654558df9e7adab815a7cff9e0e59e9f29cc3a7388977b314d"
 },
 "nbformat": 3,
 "nbformat_minor": 0,
 "worksheets": [
  {
   "cells": [
    {
     "cell_type": "heading",
     "level": 2,
     "metadata": {},
     "source": [
      "    PROJECT: TRANSFORMER DESIGN FOR A HVDC TRANSMISSION SYSTEM"
     ]
    },
    {
     "cell_type": "heading",
     "level": 3,
     "metadata": {},
     "source": [
      "SPECIFICATIONS:"
     ]
    },
    {
     "cell_type": "heading",
     "level": 4,
     "metadata": {},
     "source": [
      "    6.5 MVA, Single Phase transformer"
     ]
    },
    {
     "cell_type": "heading",
     "level": 4,
     "metadata": {},
     "source": [
      "Operating Frequency: 500 Hz"
     ]
    },
    {
     "cell_type": "heading",
     "level": 4,
     "metadata": {},
     "source": [
      "Input Voltage: 3 kV"
     ]
    },
    {
     "cell_type": "heading",
     "level": 4,
     "metadata": {},
     "source": [
      "Output Voltage: 300kV"
     ]
    },
    {
     "cell_type": "heading",
     "level": 4,
     "metadata": {},
     "source": [
      "Operating Temperature 110 \u00b0C"
     ]
    },
    {
     "cell_type": "code",
     "collapsed": false,
     "input": [
      "S=6500000.00 #VA\n",
      "V1=3000.00 #V\n",
      "V2=300000.00  #V\n",
      "I2= S/V2 #A\n",
      "print 'I2 =', I2 ,'A'"
     ],
     "language": "python",
     "metadata": {},
     "outputs": [
      {
       "output_type": "stream",
       "stream": "stdout",
       "text": [
        "I2 = 21.6666666667 A\n"
       ]
      }
     ],
     "prompt_number": 3
    },
    {
     "cell_type": "code",
     "collapsed": false,
     "input": [
      "Turn_ratio= 300/3\n",
      "print 'Turn_ratio =', Turn_ratio"
     ],
     "language": "python",
     "metadata": {},
     "outputs": [
      {
       "output_type": "stream",
       "stream": "stdout",
       "text": [
        "Turn_ratio = 100\n"
       ]
      }
     ],
     "prompt_number": 25
    },
    {
     "cell_type": "markdown",
     "metadata": {},
     "source": [
      "assume: "
     ]
    },
    {
     "cell_type": "code",
     "collapsed": false,
     "input": [
      "N1=8\n",
      "N2=800\n",
      "n=0.98 #efficiency"
     ],
     "language": "python",
     "metadata": {},
     "outputs": [],
     "prompt_number": 9
    },
    {
     "cell_type": "code",
     "collapsed": false,
     "input": [
      "I1=S/(n*V1)\n",
      "print 'I1 =', I1 ,'A'"
     ],
     "language": "python",
     "metadata": {},
     "outputs": [
      {
       "output_type": "stream",
       "stream": "stdout",
       "text": [
        "I1 = 2210.88435374 A\n"
       ]
      }
     ],
     "prompt_number": 5
    },
    {
     "cell_type": "markdown",
     "metadata": {},
     "source": [
      "skin depth:"
     ]
    },
    {
     "cell_type": "code",
     "collapsed": false,
     "input": [
      "p=1.724e-08 #resistivity for copper\n",
      "w=2*pi*500\n",
      "u=4e-07*pi*0.999991 # permeability of air*relative mag. permeability of copper\n",
      "SD=sqrt(2*p/(w*u))*1000 #skin depth in mm\n",
      "print 'Skin Depth =', SD ,'mm'"
     ],
     "language": "python",
     "metadata": {},
     "outputs": [
      {
       "output_type": "stream",
       "stream": "stdout",
       "text": [
        "Skin Depth = 2.95532817732 mm\n"
       ]
      }
     ],
     "prompt_number": 38
    },
    {
     "cell_type": "markdown",
     "metadata": {},
     "source": [
      "assume:"
     ]
    },
    {
     "cell_type": "code",
     "collapsed": false,
     "input": [
      "ccc=5 #A/mm^2       #Current carrying capacity of wire\n",
      "I2= 21.6666666667\n",
      "A2= I2/5 #area of secondary conductor\n",
      "print 'A2 =', A2 ,'mm^2'\n",
      "r2 = sqrt(A2/pi) # radius of secondary conductor\n",
      "print 'r2 =', r2 ,'mm'\n",
      "print'\"AWG 11\" is chosen from the table of AWG cable sizes'"
     ],
     "language": "python",
     "metadata": {},
     "outputs": [
      {
       "output_type": "stream",
       "stream": "stdout",
       "text": [
        "A2 = 4.33333333334 mm^2\n",
        "r2 = 1.17445427333 mm\n",
        "\"AWG 11\" is chosen from the table of AWG cable sizes\n"
       ]
      }
     ],
     "prompt_number": 47
    },
    {
     "cell_type": "code",
     "collapsed": false,
     "input": [],
     "language": "python",
     "metadata": {},
     "outputs": []
    }
   ],
   "metadata": {}
  }
 ]
}