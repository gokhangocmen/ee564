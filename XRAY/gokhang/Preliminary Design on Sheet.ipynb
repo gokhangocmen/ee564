{
 "cells": [
  {
   "cell_type": "markdown",
   "metadata": {},
   "source": [
    "# *Preliminary design on sheet*"
   ]
  },
  {
   "cell_type": "raw",
   "metadata": {},
   "source": [
    "Project-1 :\n",
    "The specs of the transformer are as follows:\n",
    "⦁\tSingle Phase, High Frequency High Voltage Transformer\n",
    "⦁\tPrimary Winding Voltage ± 417 V (peak to peak 834 V for pulsing)\n",
    "⦁\tSecondary Winding Voltage ± 12.5 kV (peak to peak 25 kV for pulsing)\n",
    "⦁\tRated Power 30 kW (for maximum 100 millisecond)\n",
    "⦁\tSwitching Frequency Minimum 100 kHz\n",
    "⦁\tAmbient Temperature 0-40 °C"
   ]
  },
  {
   "cell_type": "markdown",
   "metadata": {},
   "source": [
    "# Step 1) choosing of core material"
   ]
  },
  {
   "cell_type": "markdown",
   "metadata": {},
   "source": [
    "Depending on switching frequency which is at least 100kHz, \"Ferrite Core\" is suitable for application.\n",
    "This is because of the fact that \"Relative Core Loss\" of ferrite is low other than of powdered cores,laminations iron&silicon steel.\n",
    "My referrence is the notes on EE361."
   ]
  },
  {
   "cell_type": "markdown",
   "metadata": {},
   "source": [
    "# Step 2) choosing of operating Flux Density depending on determined material"
   ]
  },
  {
   "cell_type": "markdown",
   "metadata": {},
   "source": [
    "Commonly, manganese-zinc ferrites are used. These ferrites offers very low coercivity, that means the material's magnetization can easily reverse direction without dissipating much energy (hysteresis losses), even they do not need core lamination to reduce “Eddy Current” losses as the Powder core itself offers High resistance."
   ]
  },
  {
   "cell_type": "markdown",
   "metadata": {},
   "source": [
    "Choose Bmax = 0.35T, Bsat = 0.5T is the determination for ferrite core."
   ]
  },
  {
   "cell_type": "code",
   "execution_count": 7,
   "metadata": {
    "collapsed": false
   },
   "outputs": [
    {
     "ename": "SyntaxError",
     "evalue": "invalid syntax (<ipython-input-7-180d8b7877eb>, line 3)",
     "output_type": "error",
     "traceback": [
      "\u001b[1;36m  File \u001b[1;32m\"<ipython-input-7-180d8b7877eb>\"\u001b[1;36m, line \u001b[1;32m3\u001b[0m\n\u001b[1;33m    print(%Bm the ,Bsat)\u001b[0m\n\u001b[1;37m          ^\u001b[0m\n\u001b[1;31mSyntaxError\u001b[0m\u001b[1;31m:\u001b[0m invalid syntax\n"
     ]
    }
   ],
   "source": [
    "Bm=0.35;\n",
    "Bsat=0.5;"
   ]
  },
  {
   "cell_type": "markdown",
   "metadata": {},
   "source": [
    "# Step 3) choosing of N.A product"
   ]
  },
  {
   "cell_type": "markdown",
   "metadata": {},
   "source": [
    "V1=4*Bsat*Ac*N*f*e-8 #For square wave operated transformers"
   ]
  },
  {
   "cell_type": "code",
   "execution_count": 20,
   "metadata": {
    "collapsed": false
   },
   "outputs": [
    {
     "name": "stdout",
     "output_type": "stream",
     "text": [
      "479.6163069544364\n"
     ]
    }
   ],
   "source": [
    "Bm=0.35;\n",
    "Bsat=0.5;\n",
    "V1=417; #applied peak voltage to primary winding\n",
    "V2=12500; #obtained peak voltage at secondary winding\n",
    "Pout=30000; #rated output power\n",
    "fsw=100000; #switching frequency of transformer\n",
    "a=V1/V2 #turns ratio of transformer\n",
    "N1Ac=Bsat*fsw*4/V1;\n",
    "print (N1Ac)#N1.Ac product for designed transformer\n",
    "#Ac will be determined by chosen core,therefore N1 will be calculated from this product"
   ]
  },
  {
   "cell_type": "markdown",
   "metadata": {},
   "source": [
    "# Step 4) choosing of core material & geometry"
   ]
  },
  {
   "cell_type": "markdown",
   "metadata": {},
   "source": [
    "Here, we will calculate the required \"power handling capacity\" of the core. From this calculated value and by the help of the catalogues, the required core material and geometry will be chosen.\n",
    "\n",
    "Power handling capacity is the product of Wa(window area) and Ac (core area)."
   ]
  },
  {
   "cell_type": "code",
   "execution_count": 28,
   "metadata": {
    "collapsed": false
   },
   "outputs": [
    {
     "name": "stdout",
     "output_type": "stream",
     "text": [
      "266842.1052631579\n"
     ]
    }
   ],
   "source": [
    "C=5.07e-3; #current capacity in cm2/ampere\n",
    "e=0.95; #efficiency of the transformer\n",
    "K=0.3; #winding factor\n",
    "WaAc=(Pout*C*1e8)/(4*e*Bsat*fsw*K)\n",
    "print (WaAc)"
   ]
  },
  {
   "cell_type": "markdown",
   "metadata": {},
   "source": [
    "Required WaAc is calculated. From the ferrite core catalogue, \"49920UU\" ferrite core is suitable for application, because it has 286 WaAc product. \"UU\" corresponds double U configuration for transformer. Material type determines AL value of the core and choosing as high yields high inductance with low turns at windings. P type material can be choosen from catalogue."
   ]
  },
  {
   "cell_type": "markdown",
   "metadata": {},
   "source": [
    "Core datas are shown below. It was taken from the link, https://www.mag-inc.com/"
   ]
  },
  {
   "cell_type": "code",
   "execution_count": null,
   "metadata": {
    "collapsed": true
   },
   "outputs": [],
   "source": [
    "WaAc=286; #cm^4\n",
    "AL=3.572e-6; #H/turn for P type material\n",
    "le=480; #in mm,effective length\n",
    "Ac=560; #in mm2,effective cross sectional area\n",
    "Ve=268800; #mm3\n",
    "Weight=1360; #grams per set of the core\n",
    "#lengths of the parts of the cores are at below.\n",
    "A=126;\n",
    "B=91;\n",
    "C=20;\n",
    "D=63;\n",
    "E=70;\n",
    "L=28;"
   ]
  },
  {
   "cell_type": "markdown",
   "metadata": {},
   "source": [
    "# Step 5) determining the number of turns "
   ]
  }
 ],
 "metadata": {
  "kernelspec": {
   "display_name": "Python 3",
   "language": "python",
   "name": "python3"
  },
  "language_info": {
   "codemirror_mode": {
    "name": "ipython",
    "version": 3
   },
   "file_extension": ".py",
   "mimetype": "text/x-python",
   "name": "python",
   "nbconvert_exporter": "python",
   "pygments_lexer": "ipython3",
   "version": "3.4.3"
  }
 },
 "nbformat": 4,
 "nbformat_minor": 0
}
