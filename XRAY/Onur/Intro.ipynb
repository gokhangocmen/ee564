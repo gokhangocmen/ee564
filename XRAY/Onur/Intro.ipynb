{
 "metadata": {
  "name": "",
  "signature": "sha256:10e89bdb77c583c53f37b5eb03d580c7d189a04abc499cb6e24400e4acb70289"
 },
 "nbformat": 3,
 "nbformat_minor": 0,
 "worksheets": [
  {
   "cells": [
    {
     "cell_type": "markdown",
     "metadata": {},
     "source": [
      "In this project we are supposed to design a high-frequency, high-voltage transformer that will be used in a mobile X-Ray device.\n",
      "\n",
      "The specifications of the transformer are as follows:\n",
      "\n",
      "- Single Phase, High Frequency High Voltage Transformer\n",
      "- Primary Winding Voltage \u00b1 417 V (peak to peak 834 V for pulsing)\n",
      "- Secondary Winding Voltage \u00b1 12.5 kV (peak to peak 25 kV for pulsing)\n",
      "- Rated Power 30 kW (for maximum 100 millisecond)\n",
      "- Switching Frequency Minimum 100 kHz\n",
      "- Ambient Temperature 0-40 \u00b0C"
     ]
    },
    {
     "cell_type": "code",
     "collapsed": false,
     "input": [],
     "language": "python",
     "metadata": {},
     "outputs": []
    }
   ],
   "metadata": {}
  }
 ]
}